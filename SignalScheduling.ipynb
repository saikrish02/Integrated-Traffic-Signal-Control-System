{
  "nbformat": 4,
  "nbformat_minor": 0,
  "metadata": {
    "colab": {
      "provenance": [],
      "gpuType": "T4",
      "authorship_tag": "ABX9TyOi7Z8ArN+3Rq2GlA4SaRRH",
      "include_colab_link": true
    },
    "kernelspec": {
      "name": "python3",
      "display_name": "Python 3"
    },
    "language_info": {
      "name": "python"
    },
    "accelerator": "GPU"
  },
  "cells": [
    {
      "cell_type": "markdown",
      "metadata": {
        "id": "view-in-github",
        "colab_type": "text"
      },
      "source": [
        "<a href=\"https://colab.research.google.com/github/saikrish02/Integrated-Traffic-Signal-Control-System/blob/main/SignalScheduling.ipynb\" target=\"_parent\"><img src=\"https://colab.research.google.com/assets/colab-badge.svg\" alt=\"Open In Colab\"/></a>"
      ]
    },
    {
      "cell_type": "code",
      "source": [
        "from google.colab import drive\n",
        "drive.mount('/gdrive', force_remount=True)"
      ],
      "metadata": {
        "colab": {
          "base_uri": "https://localhost:8080/"
        },
        "id": "78XWNKDIDHV4",
        "outputId": "169ad7b9-3ee8-4209-e226-bd12b6e0d1fc"
      },
      "execution_count": 1,
      "outputs": [
        {
          "output_type": "stream",
          "name": "stdout",
          "text": [
            "Mounted at /gdrive\n"
          ]
        }
      ]
    },
    {
      "cell_type": "code",
      "source": [
        "%cd /gdrive/MyDrive"
      ],
      "metadata": {
        "colab": {
          "base_uri": "https://localhost:8080/"
        },
        "id": "i-gShEb_DaaT",
        "outputId": "036ad397-22e0-41fa-c19e-49ce8650ff9e"
      },
      "execution_count": 2,
      "outputs": [
        {
          "output_type": "stream",
          "name": "stdout",
          "text": [
            "/gdrive/MyDrive\n"
          ]
        }
      ]
    },
    {
      "cell_type": "code",
      "source": [
        "!pip install ultralytics"
      ],
      "metadata": {
        "colab": {
          "base_uri": "https://localhost:8080/"
        },
        "id": "Lr6VmIVVDjTH",
        "outputId": "459e6496-d24d-48d8-a0fa-ac020ae06763"
      },
      "execution_count": 3,
      "outputs": [
        {
          "output_type": "stream",
          "name": "stdout",
          "text": [
            "Requirement already satisfied: ultralytics in /usr/local/lib/python3.10/dist-packages (8.1.26)\n",
            "Requirement already satisfied: matplotlib>=3.3.0 in /usr/local/lib/python3.10/dist-packages (from ultralytics) (3.7.1)\n",
            "Requirement already satisfied: opencv-python>=4.6.0 in /usr/local/lib/python3.10/dist-packages (from ultralytics) (4.8.0.76)\n",
            "Requirement already satisfied: pillow>=7.1.2 in /usr/local/lib/python3.10/dist-packages (from ultralytics) (9.3.0)\n",
            "Requirement already satisfied: pyyaml>=5.3.1 in /usr/local/lib/python3.10/dist-packages (from ultralytics) (6.0.1)\n",
            "Requirement already satisfied: requests>=2.23.0 in /usr/local/lib/python3.10/dist-packages (from ultralytics) (2.31.0)\n",
            "Requirement already satisfied: scipy>=1.4.1 in /usr/local/lib/python3.10/dist-packages (from ultralytics) (1.11.4)\n",
            "Requirement already satisfied: torch>=1.8.0 in /usr/local/lib/python3.10/dist-packages (from ultralytics) (2.1.0+cu121)\n",
            "Requirement already satisfied: torchvision>=0.9.0 in /usr/local/lib/python3.10/dist-packages (from ultralytics) (0.16.0+cu121)\n",
            "Requirement already satisfied: tqdm>=4.64.0 in /usr/local/lib/python3.10/dist-packages (from ultralytics) (4.66.2)\n",
            "Requirement already satisfied: psutil in /usr/local/lib/python3.10/dist-packages (from ultralytics) (5.9.5)\n",
            "Requirement already satisfied: py-cpuinfo in /usr/local/lib/python3.10/dist-packages (from ultralytics) (9.0.0)\n",
            "Requirement already satisfied: thop>=0.1.1 in /usr/local/lib/python3.10/dist-packages (from ultralytics) (0.1.1.post2209072238)\n",
            "Requirement already satisfied: pandas>=1.1.4 in /usr/local/lib/python3.10/dist-packages (from ultralytics) (1.5.3)\n",
            "Requirement already satisfied: seaborn>=0.11.0 in /usr/local/lib/python3.10/dist-packages (from ultralytics) (0.13.1)\n",
            "Requirement already satisfied: contourpy>=1.0.1 in /usr/local/lib/python3.10/dist-packages (from matplotlib>=3.3.0->ultralytics) (1.2.0)\n",
            "Requirement already satisfied: cycler>=0.10 in /usr/local/lib/python3.10/dist-packages (from matplotlib>=3.3.0->ultralytics) (0.12.1)\n",
            "Requirement already satisfied: fonttools>=4.22.0 in /usr/local/lib/python3.10/dist-packages (from matplotlib>=3.3.0->ultralytics) (4.49.0)\n",
            "Requirement already satisfied: kiwisolver>=1.0.1 in /usr/local/lib/python3.10/dist-packages (from matplotlib>=3.3.0->ultralytics) (1.4.5)\n",
            "Requirement already satisfied: numpy>=1.20 in /usr/local/lib/python3.10/dist-packages (from matplotlib>=3.3.0->ultralytics) (1.25.2)\n",
            "Requirement already satisfied: packaging>=20.0 in /usr/local/lib/python3.10/dist-packages (from matplotlib>=3.3.0->ultralytics) (23.2)\n",
            "Requirement already satisfied: pyparsing>=2.3.1 in /usr/local/lib/python3.10/dist-packages (from matplotlib>=3.3.0->ultralytics) (3.1.1)\n",
            "Requirement already satisfied: python-dateutil>=2.7 in /usr/local/lib/python3.10/dist-packages (from matplotlib>=3.3.0->ultralytics) (2.8.2)\n",
            "Requirement already satisfied: pytz>=2020.1 in /usr/local/lib/python3.10/dist-packages (from pandas>=1.1.4->ultralytics) (2023.4)\n",
            "Requirement already satisfied: charset-normalizer<4,>=2 in /usr/local/lib/python3.10/dist-packages (from requests>=2.23.0->ultralytics) (3.3.2)\n",
            "Requirement already satisfied: idna<4,>=2.5 in /usr/local/lib/python3.10/dist-packages (from requests>=2.23.0->ultralytics) (3.6)\n",
            "Requirement already satisfied: urllib3<3,>=1.21.1 in /usr/local/lib/python3.10/dist-packages (from requests>=2.23.0->ultralytics) (2.0.7)\n",
            "Requirement already satisfied: certifi>=2017.4.17 in /usr/local/lib/python3.10/dist-packages (from requests>=2.23.0->ultralytics) (2024.2.2)\n",
            "Requirement already satisfied: filelock in /usr/local/lib/python3.10/dist-packages (from torch>=1.8.0->ultralytics) (3.13.1)\n",
            "Requirement already satisfied: typing-extensions in /usr/local/lib/python3.10/dist-packages (from torch>=1.8.0->ultralytics) (4.10.0)\n",
            "Requirement already satisfied: sympy in /usr/local/lib/python3.10/dist-packages (from torch>=1.8.0->ultralytics) (1.12)\n",
            "Requirement already satisfied: networkx in /usr/local/lib/python3.10/dist-packages (from torch>=1.8.0->ultralytics) (3.2.1)\n",
            "Requirement already satisfied: jinja2 in /usr/local/lib/python3.10/dist-packages (from torch>=1.8.0->ultralytics) (3.1.3)\n",
            "Requirement already satisfied: fsspec in /usr/local/lib/python3.10/dist-packages (from torch>=1.8.0->ultralytics) (2023.6.0)\n",
            "Requirement already satisfied: triton==2.1.0 in /usr/local/lib/python3.10/dist-packages (from torch>=1.8.0->ultralytics) (2.1.0)\n",
            "Requirement already satisfied: six>=1.5 in /usr/local/lib/python3.10/dist-packages (from python-dateutil>=2.7->matplotlib>=3.3.0->ultralytics) (1.16.0)\n",
            "Requirement already satisfied: MarkupSafe>=2.0 in /usr/local/lib/python3.10/dist-packages (from jinja2->torch>=1.8.0->ultralytics) (2.1.5)\n",
            "Requirement already satisfied: mpmath>=0.19 in /usr/local/lib/python3.10/dist-packages (from sympy->torch>=1.8.0->ultralytics) (1.3.0)\n"
          ]
        }
      ]
    },
    {
      "cell_type": "code",
      "source": [
        "\n",
        "from ultralytics import YOLO\n",
        "\n",
        "def getCount(source, count):\n",
        "  model = YOLO('/gdrive/MyDrive/best.pt')\n",
        "  results = model(source, imgsz = 640, conf = 0.4, verbose =False)\n",
        "  for r in results:\n",
        "    #print(r.boxes)\n",
        "    #print(r.names)\n",
        "    for x in r.boxes.cls:\n",
        "      #print(int(x.item()))\n",
        "      className = r.names.get(int(x.item()))\n",
        "      #print(className)\n",
        "      if className == 'PoliceCar':\n",
        "        continue\n",
        "      if count.get(className) is None:\n",
        "        count[className] = 1\n",
        "      else:\n",
        "        count[className] += 1\n",
        "  model = YOLO('/gdrive/MyDrive/runs/detect/train/weights/best.pt')\n",
        "  result = model(source, imgsz = 640)\n",
        "  for r in result:\n",
        "    #print(r.boxes)\n",
        "    #print(r.names)\n",
        "    for x in r.boxes.cls:\n",
        "      #print(int(x.item()))\n",
        "      if count.get(r.names.get(int(x.item()))) is None:\n",
        "        count[r.names.get(int(x.item()))] = 1\n",
        "      else:\n",
        "        count[r.names.get(int(x.item()))] += 1\n",
        "  return\n"
      ],
      "metadata": {
        "id": "hhT-zA1jCjB2"
      },
      "execution_count": 4,
      "outputs": []
    },
    {
      "cell_type": "code",
      "source": [
        "weights = {\n",
        "    'two-wheeler' : 1,\n",
        "    'auto' : 3,\n",
        "    'rickshaw' : 3,\n",
        "    'car' : 5,\n",
        "    'pickup' : 8,\n",
        "    'bus' : 20,\n",
        "    'truck' : 22,\n",
        "    'AmbulanceOff': 10,\n",
        "    'AmbulanceOn' : 100,\n",
        "    'FireEngineOff' : 22,\n",
        "    'FireEngineOn' : 100,\n",
        "    'PoliceCar' : 5\n",
        "}"
      ],
      "metadata": {
        "id": "t5G9Ut3EkF_y"
      },
      "execution_count": 5,
      "outputs": []
    },
    {
      "cell_type": "code",
      "source": [
        "def calc_weight(count):\n",
        "    total = 0\n",
        "    for i in count.keys():\n",
        "      total += (weights[i] * count[i])\n",
        "    return total"
      ],
      "metadata": {
        "id": "25UgX0_N8dGs"
      },
      "execution_count": 6,
      "outputs": []
    },
    {
      "cell_type": "code",
      "source": [
        "if __name__ == '__main__':\n",
        "    # realTime()\n",
        "    #images_folder = glob.glob(\"images/*.jpg\")\n",
        "    # for image in images_folder:\n",
        "        # from_static_image(image)\n",
        "    direction = ['North', 'East', 'South', 'West']\n",
        "    images = [\"/content/traffic4.jpg\", \"/content/traffic5.jpg\", \"/content/traffic2.jpg\", \"/content/traffic9.jpg\"]\n",
        "    lane = {}\n",
        "    for i in range(4):\n",
        "      count = {}\n",
        "      print(direction[i])\n",
        "      getCount(images[i], count)\n",
        "      weight = calc_weight(count)\n",
        "      lane[direction[i]] = weight\n",
        "      print(weight)\n",
        "\n"
      ],
      "metadata": {
        "colab": {
          "base_uri": "https://localhost:8080/"
        },
        "id": "ClmbjoK4qs1d",
        "outputId": "c0eb9790-b7a7-4909-8ebe-fba9fc11f86b"
      },
      "execution_count": 7,
      "outputs": [
        {
          "output_type": "stream",
          "name": "stdout",
          "text": [
            "North\n",
            "\n",
            "image 1/1 /content/traffic4.jpg: 384x640 6 autos, 1 bus, 15 cars, 1 pickup, 1 rickshaw, 1 two-wheeler, 53.2ms\n",
            "Speed: 1.5ms preprocess, 53.2ms inference, 2.4ms postprocess per image at shape (1, 3, 384, 640)\n",
            "125\n",
            "East\n",
            "\n",
            "image 1/1 /content/traffic5.jpg: 384x640 14 autos, 1 bus, 10 cars, 15 two-wheelers, 37.4ms\n",
            "Speed: 1.7ms preprocess, 37.4ms inference, 1.2ms postprocess per image at shape (1, 3, 384, 640)\n",
            "127\n",
            "South\n",
            "\n",
            "image 1/1 /content/traffic2.jpg: 640x512 4 autos, 4 buss, 30 cars, 1 pickup, 3 rickshaws, 2 trucks, 15 two-wheelers, 78.0ms\n",
            "Speed: 4.2ms preprocess, 78.0ms inference, 1.8ms postprocess per image at shape (1, 3, 640, 512)\n",
            "318\n",
            "West\n",
            "\n",
            "image 1/1 /content/traffic9.jpg: 384x640 15 cars, 62.8ms\n",
            "Speed: 1.3ms preprocess, 62.8ms inference, 1.8ms postprocess per image at shape (1, 3, 384, 640)\n",
            "75\n"
          ]
        }
      ]
    },
    {
      "cell_type": "code",
      "source": [
        "totalSum = 0\n",
        "for i in lane.keys():\n",
        "  totalSum += lane[i]\n",
        "  print(lane[i])\n",
        "print(totalSum)\n",
        "\n",
        "for i in lane.keys():\n",
        "    lane[i] /= totalSum\n",
        "lane\n"
      ],
      "metadata": {
        "colab": {
          "base_uri": "https://localhost:8080/"
        },
        "id": "mT26FB_CvuC7",
        "outputId": "4f364550-79e5-4a3a-b356-350ede2b77e4"
      },
      "execution_count": 8,
      "outputs": [
        {
          "output_type": "stream",
          "name": "stdout",
          "text": [
            "125\n",
            "127\n",
            "318\n",
            "75\n",
            "645\n"
          ]
        },
        {
          "output_type": "execute_result",
          "data": {
            "text/plain": [
              "{'North': 0.1937984496124031,\n",
              " 'East': 0.19689922480620156,\n",
              " 'South': 0.4930232558139535,\n",
              " 'West': 0.11627906976744186}"
            ]
          },
          "metadata": {},
          "execution_count": 8
        }
      ]
    },
    {
      "cell_type": "code",
      "source": [
        "tot_time = 0\n",
        "for i in lane.keys():\n",
        "  lane[i] = round(180 * lane[i])\n",
        "  tot_time += lane[i]\n",
        "tot_time += 12\n",
        "lane"
      ],
      "metadata": {
        "colab": {
          "base_uri": "https://localhost:8080/"
        },
        "id": "H_Lo9gveu5az",
        "outputId": "d6a48c01-53dc-42da-aa73-ecada4ae51f1"
      },
      "execution_count": 9,
      "outputs": [
        {
          "output_type": "execute_result",
          "data": {
            "text/plain": [
              "{'North': 35, 'East': 35, 'South': 89, 'West': 21}"
            ]
          },
          "metadata": {},
          "execution_count": 9
        }
      ]
    },
    {
      "cell_type": "code",
      "source": [
        "signal_time = []\n",
        "\n",
        "\n",
        "for i in range(4):\n",
        "    print(direction[i].upper())\n",
        "    x = []\n",
        "    print(f'Green time : {lane[direction[i]]}sec')\n",
        "    x.append(lane[direction[i]])\n",
        "    print('Yellow time : 3sec')\n",
        "    x.append(3)\n",
        "    print(f'Red time : {tot_time - lane[direction[i]] - 3}sec')\n",
        "    x.append(tot_time - lane[direction[i]] - 3)\n",
        "    print(f'Turn : {i+1}\\n')\n",
        "    signal_time.append(x)\n",
        "signal_time"
      ],
      "metadata": {
        "colab": {
          "base_uri": "https://localhost:8080/"
        },
        "id": "NCXpIGhf3igi",
        "outputId": "86695101-105b-45dc-c4fd-2a06fc0c39cc"
      },
      "execution_count": 10,
      "outputs": [
        {
          "output_type": "stream",
          "name": "stdout",
          "text": [
            "NORTH\n",
            "Green time : 35sec\n",
            "Yellow time : 3sec\n",
            "Red time : 154sec\n",
            "Turn : 1\n",
            "\n",
            "EAST\n",
            "Green time : 35sec\n",
            "Yellow time : 3sec\n",
            "Red time : 154sec\n",
            "Turn : 2\n",
            "\n",
            "SOUTH\n",
            "Green time : 89sec\n",
            "Yellow time : 3sec\n",
            "Red time : 100sec\n",
            "Turn : 3\n",
            "\n",
            "WEST\n",
            "Green time : 21sec\n",
            "Yellow time : 3sec\n",
            "Red time : 168sec\n",
            "Turn : 4\n",
            "\n"
          ]
        },
        {
          "output_type": "execute_result",
          "data": {
            "text/plain": [
              "[[35, 3, 154], [35, 3, 154], [89, 3, 100], [21, 3, 168]]"
            ]
          },
          "metadata": {},
          "execution_count": 10
        }
      ]
    },
    {
      "cell_type": "code",
      "source": [
        "!pip install arcade\n",
        "!pip install colorama"
      ],
      "metadata": {
        "colab": {
          "base_uri": "https://localhost:8080/",
          "height": 616
        },
        "id": "rQA8BfMGMbVD",
        "outputId": "8f8ec49c-c976-4ff0-9b29-eff144dcd26e"
      },
      "execution_count": 12,
      "outputs": [
        {
          "output_type": "stream",
          "name": "stdout",
          "text": [
            "Collecting arcade\n",
            "  Downloading arcade-2.6.17-py3-none-any.whl (39.4 MB)\n",
            "\u001b[2K     \u001b[90m━━━━━━━━━━━━━━━━━━━━━━━━━━━━━━━━━━━━━━━━\u001b[0m \u001b[32m39.4/39.4 MB\u001b[0m \u001b[31m16.0 MB/s\u001b[0m eta \u001b[36m0:00:00\u001b[0m\n",
            "\u001b[?25hCollecting pyglet==2.0.dev23 (from arcade)\n",
            "  Downloading pyglet-2.0.dev23-py3-none-any.whl (965 kB)\n",
            "\u001b[2K     \u001b[90m━━━━━━━━━━━━━━━━━━━━━━━━━━━━━━━━━━━━━━━━\u001b[0m \u001b[32m965.3/965.3 kB\u001b[0m \u001b[31m69.8 MB/s\u001b[0m eta \u001b[36m0:00:00\u001b[0m\n",
            "\u001b[?25hCollecting pillow~=9.3.0 (from arcade)\n",
            "  Downloading Pillow-9.3.0-cp310-cp310-manylinux_2_28_x86_64.whl (3.3 MB)\n",
            "\u001b[2K     \u001b[90m━━━━━━━━━━━━━━━━━━━━━━━━━━━━━━━━━━━━━━━━\u001b[0m \u001b[32m3.3/3.3 MB\u001b[0m \u001b[31m66.0 MB/s\u001b[0m eta \u001b[36m0:00:00\u001b[0m\n",
            "\u001b[?25hCollecting pymunk~=6.4.0 (from arcade)\n",
            "  Downloading pymunk-6.4.0-cp310-cp310-manylinux_2_17_x86_64.manylinux2014_x86_64.whl (996 kB)\n",
            "\u001b[2K     \u001b[90m━━━━━━━━━━━━━━━━━━━━━━━━━━━━━━━━━━━━━━━━\u001b[0m \u001b[32m996.5/996.5 kB\u001b[0m \u001b[31m59.3 MB/s\u001b[0m eta \u001b[36m0:00:00\u001b[0m\n",
            "\u001b[?25hCollecting pytiled-parser==2.2.0 (from arcade)\n",
            "  Downloading pytiled_parser-2.2.0-py3-none-any.whl (42 kB)\n",
            "\u001b[2K     \u001b[90m━━━━━━━━━━━━━━━━━━━━━━━━━━━━━━━━━━━━━━━━\u001b[0m \u001b[32m42.7/42.7 kB\u001b[0m \u001b[31m6.1 MB/s\u001b[0m eta \u001b[36m0:00:00\u001b[0m\n",
            "\u001b[?25hRequirement already satisfied: attrs>=18.2.0 in /usr/local/lib/python3.10/dist-packages (from pytiled-parser==2.2.0->arcade) (23.2.0)\n",
            "Requirement already satisfied: typing-extensions in /usr/local/lib/python3.10/dist-packages (from pytiled-parser==2.2.0->arcade) (4.10.0)\n",
            "Requirement already satisfied: cffi>=1.15.0 in /usr/local/lib/python3.10/dist-packages (from pymunk~=6.4.0->arcade) (1.16.0)\n",
            "Requirement already satisfied: pycparser in /usr/local/lib/python3.10/dist-packages (from cffi>=1.15.0->pymunk~=6.4.0->arcade) (2.21)\n",
            "Installing collected packages: pyglet, pytiled-parser, pillow, pymunk, arcade\n",
            "  Attempting uninstall: pillow\n",
            "    Found existing installation: Pillow 9.4.0\n",
            "    Uninstalling Pillow-9.4.0:\n",
            "      Successfully uninstalled Pillow-9.4.0\n",
            "Successfully installed arcade-2.6.17 pillow-9.3.0 pyglet-2.0.dev23 pymunk-6.4.0 pytiled-parser-2.2.0\n"
          ]
        },
        {
          "output_type": "display_data",
          "data": {
            "application/vnd.colab-display-data+json": {
              "pip_warning": {
                "packages": [
                  "PIL"
                ]
              },
              "id": "28a0435052de4d16a9b3e0cbece01b7c"
            }
          },
          "metadata": {}
        },
        {
          "output_type": "stream",
          "name": "stdout",
          "text": [
            "Collecting colorama\n",
            "  Downloading colorama-0.4.6-py2.py3-none-any.whl (25 kB)\n",
            "Installing collected packages: colorama\n",
            "Successfully installed colorama-0.4.6\n"
          ]
        }
      ]
    },
    {
      "cell_type": "code",
      "source": [
        "import arcade\n",
        "from colorama import Fore, Style\n",
        "signal_seq = []\n",
        "\n",
        "for i in range(4):\n",
        "    temp = []\n",
        "    red1 = 0\n",
        "    red2 = 0\n",
        "    for j in range(i):\n",
        "        red1 += signal_time[j][0]\n",
        "        red1 += 3\n",
        "    temp.append(red1)\n",
        "    temp.append(signal_time[i][0])\n",
        "    temp.append(3)\n",
        "    for j in range(i+1, 4):\n",
        "        red2 += signal_time[j][0]\n",
        "        red2 += 3\n",
        "    temp.append(red2)\n",
        "    signal_seq.append(temp)\n",
        "\n",
        "\n",
        "def print_signal_time(direc, signaltime):\n",
        "    print(Style.BRIGHT + direc)\n",
        "    print(Fore.RED + Style.BRIGHT + f'{signaltime[0]} sec')\n",
        "    print(Fore.GREEN + Style.BRIGHT + f'{signaltime[1]} sec')\n",
        "    print(Fore.YELLOW + Style.BRIGHT + f'{signaltime[2]} sec')\n",
        "    print(Fore.RED + Style.BRIGHT + f'{signaltime[3]} sec')\n",
        "    print(Style.RESET_ALL)\n",
        "\n",
        "print_signal_time('NORTH', signal_seq[0])\n",
        "print_signal_time('EAST', signal_seq[1])\n",
        "print_signal_time('SOUTH', signal_seq[2])\n",
        "print_signal_time('WEST', signal_seq[3])\n"
      ],
      "metadata": {
        "colab": {
          "base_uri": "https://localhost:8080/"
        },
        "id": "3CkXlS2Sudv-",
        "outputId": "4eeafd95-ea2a-4c70-a7ad-229b7db92ceb"
      },
      "execution_count": 11,
      "outputs": [
        {
          "output_type": "stream",
          "name": "stdout",
          "text": [
            "\u001b[1mNORTH\n",
            "\u001b[31m\u001b[1m0 sec\n",
            "\u001b[32m\u001b[1m35 sec\n",
            "\u001b[33m\u001b[1m3 sec\n",
            "\u001b[31m\u001b[1m154 sec\n",
            "\u001b[0m\n",
            "\u001b[1mEAST\n",
            "\u001b[31m\u001b[1m38 sec\n",
            "\u001b[32m\u001b[1m35 sec\n",
            "\u001b[33m\u001b[1m3 sec\n",
            "\u001b[31m\u001b[1m116 sec\n",
            "\u001b[0m\n",
            "\u001b[1mSOUTH\n",
            "\u001b[31m\u001b[1m76 sec\n",
            "\u001b[32m\u001b[1m89 sec\n",
            "\u001b[33m\u001b[1m3 sec\n",
            "\u001b[31m\u001b[1m24 sec\n",
            "\u001b[0m\n",
            "\u001b[1mWEST\n",
            "\u001b[31m\u001b[1m168 sec\n",
            "\u001b[32m\u001b[1m21 sec\n",
            "\u001b[33m\u001b[1m3 sec\n",
            "\u001b[31m\u001b[1m0 sec\n",
            "\u001b[0m\n"
          ]
        }
      ]
    },
    {
      "cell_type": "code",
      "source": [
        "SCREEN_WIDTH = 800\n",
        "SCREEN_HEIGHT = 600\n",
        "SCREEN_TITLE = \"Traffic Signal\"\n",
        "\n",
        "class MyTimer(arcade.Window):\n",
        "    def setup(self, sig):\n",
        "        arcade.set_background_color(arcade.color.WHITE)\n",
        "        self.i = 0\n",
        "        self.total_time = sig[0]\n",
        "        self.signal = sig.copy()\n",
        "\n",
        "    def on_draw(self):\n",
        "        arcade.start_render()\n",
        "        if int(self.total_time) < 0:\n",
        "            self.i += 1\n",
        "            if self.i > 3:\n",
        "                exit(0)\n",
        "            self.total_time = int(self.signal[self.i])\n",
        "        seconds = int(self.total_time)\n",
        "        output = f\"{seconds:02d}\"\n",
        "        if self.i == 0 or self.i == 3:\n",
        "            arcade.draw_text(output, 325, 280, arcade.color.DARK_CANDY_APPLE_RED, 100)\n",
        "        elif self.i == 1:\n",
        "            arcade.draw_text(output, 325, 280, arcade.color.BOTTLE_GREEN, 100)\n",
        "        elif self.i == 2:\n",
        "            arcade.draw_text(output, 325, 280, arcade.color.DARK_TANGERINE, 100)\n",
        "\n",
        "    def on_update(self, delta_time):\n",
        "        self.total_time -= delta_time\n",
        "\n",
        "\n",
        "window = MyTimer()\n",
        "window.setup(signal_seq[0])\n",
        "arcade.run()"
      ],
      "metadata": {
        "id": "EwX5qFosK5dQ"
      },
      "execution_count": null,
      "outputs": []
    }
  ]
}